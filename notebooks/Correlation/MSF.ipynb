{
 "cells": [
  {
   "cell_type": "code",
   "execution_count": 1,
   "id": "dde5a4cd",
   "metadata": {},
   "outputs": [],
   "source": [
    "import sys\n",
    "from pathlib import Path\n",
    "\n",
    "# Add project root to path (one-time setup)\n",
    "project_root = str(Path().resolve().parent.parent)  # Goes up to project_root/\n",
    "if project_root not in sys.path:\n",
    "    sys.path.append(project_root)"
   ]
  },
  {
   "cell_type": "code",
   "execution_count": 2,
   "id": "93cc3077",
   "metadata": {},
   "outputs": [],
   "source": [
    "from src.sentiment_analysis import SentimentReturnAnalyzer"
   ]
  },
  {
   "cell_type": "code",
   "execution_count": 3,
   "id": "fdda24b2",
   "metadata": {},
   "outputs": [],
   "source": [
    "analyzer = SentimentReturnAnalyzer(\n",
    "    news_path=\"../../data/raw_analyst_ratings.csv\",\n",
    "    stock_path=\"../../data/yfinance_data/AAPL_historical_data.csv\",\n",
    "    stock_symbol=\"MSF\"\n",
    ")\n"
   ]
  },
  {
   "cell_type": "code",
   "execution_count": 4,
   "id": "eabb92fb",
   "metadata": {},
   "outputs": [
    {
     "name": "stdout",
     "output_type": "stream",
     "text": [
      "[Debug] Unparsed news dates after fallback parsing: 2\n"
     ]
    }
   ],
   "source": [
    "analyzer.load_data()"
   ]
  },
  {
   "cell_type": "code",
   "execution_count": 5,
   "id": "a0183e28",
   "metadata": {},
   "outputs": [],
   "source": [
    "analyzer.analyze_sentiment()"
   ]
  },
  {
   "cell_type": "code",
   "execution_count": 6,
   "id": "d0912ef5",
   "metadata": {},
   "outputs": [
    {
     "data": {
      "text/html": [
       "<div>\n",
       "<style scoped>\n",
       "    .dataframe tbody tr th:only-of-type {\n",
       "        vertical-align: middle;\n",
       "    }\n",
       "\n",
       "    .dataframe tbody tr th {\n",
       "        vertical-align: top;\n",
       "    }\n",
       "\n",
       "    .dataframe thead th {\n",
       "        text-align: right;\n",
       "    }\n",
       "</style>\n",
       "<table border=\"1\" class=\"dataframe\">\n",
       "  <thead>\n",
       "    <tr style=\"text-align: right;\">\n",
       "      <th></th>\n",
       "      <th>unnamed: 0</th>\n",
       "      <th>headline</th>\n",
       "      <th>url</th>\n",
       "      <th>publisher</th>\n",
       "      <th>date</th>\n",
       "      <th>stock</th>\n",
       "      <th>sentiment</th>\n",
       "    </tr>\n",
       "  </thead>\n",
       "  <tbody>\n",
       "    <tr>\n",
       "      <th>857407</th>\n",
       "      <td>861769</td>\n",
       "      <td>NVIDIA with Microsoft Announces Technology Col...</td>\n",
       "      <td>https://www.benzinga.com/news/19/10/14632016/n...</td>\n",
       "      <td>Charles Gross</td>\n",
       "      <td>2019-10-21 19:21:40</td>\n",
       "      <td>MSF</td>\n",
       "      <td>0.800000</td>\n",
       "    </tr>\n",
       "    <tr>\n",
       "      <th>857408</th>\n",
       "      <td>861770</td>\n",
       "      <td>LinkedIn to Acquire Glint, An Employee Engagem...</td>\n",
       "      <td>https://www.benzinga.com/news/18/10/12472271/l...</td>\n",
       "      <td>Benzinga Newsdesk</td>\n",
       "      <td>2018-10-08 11:13:38</td>\n",
       "      <td>MSF</td>\n",
       "      <td>0.000000</td>\n",
       "    </tr>\n",
       "    <tr>\n",
       "      <th>857409</th>\n",
       "      <td>861771</td>\n",
       "      <td>Stocks Which Set New 52-Week Low Yesterday, Se...</td>\n",
       "      <td>https://www.benzinga.com/trading-ideas/technic...</td>\n",
       "      <td>Benzinga Newsdesk</td>\n",
       "      <td>2018-09-13 10:19:43</td>\n",
       "      <td>MSF</td>\n",
       "      <td>0.068182</td>\n",
       "    </tr>\n",
       "    <tr>\n",
       "      <th>857410</th>\n",
       "      <td>861772</td>\n",
       "      <td>Stocks Which Set New 52-Week Low Yesterday, Se...</td>\n",
       "      <td>https://www.benzinga.com/trading-ideas/technic...</td>\n",
       "      <td>Benzinga Newsdesk</td>\n",
       "      <td>2018-09-12 15:29:45</td>\n",
       "      <td>MSF</td>\n",
       "      <td>0.068182</td>\n",
       "    </tr>\n",
       "    <tr>\n",
       "      <th>857411</th>\n",
       "      <td>861773</td>\n",
       "      <td>Stocks Which Set New 52-Week Low Friday, Septe...</td>\n",
       "      <td>https://www.benzinga.com/trading-ideas/technic...</td>\n",
       "      <td>Benzinga Newsdesk</td>\n",
       "      <td>2018-09-10 16:38:26</td>\n",
       "      <td>MSF</td>\n",
       "      <td>0.068182</td>\n",
       "    </tr>\n",
       "    <tr>\n",
       "      <th>857412</th>\n",
       "      <td>861774</td>\n",
       "      <td>Stocks Which Set New 52-Week Low Yesterday, Se...</td>\n",
       "      <td>https://www.benzinga.com/trading-ideas/technic...</td>\n",
       "      <td>Benzinga Newsdesk</td>\n",
       "      <td>2018-09-07 16:49:18</td>\n",
       "      <td>MSF</td>\n",
       "      <td>0.068182</td>\n",
       "    </tr>\n",
       "    <tr>\n",
       "      <th>857413</th>\n",
       "      <td>861775</td>\n",
       "      <td>Stocks Which Set New 52-Week Low Yesterday, Se...</td>\n",
       "      <td>https://www.benzinga.com/trading-ideas/technic...</td>\n",
       "      <td>Benzinga Newsdesk</td>\n",
       "      <td>2018-09-06 08:49:57</td>\n",
       "      <td>MSF</td>\n",
       "      <td>0.068182</td>\n",
       "    </tr>\n",
       "    <tr>\n",
       "      <th>857414</th>\n",
       "      <td>861776</td>\n",
       "      <td>Stocks Which Set New 52-Week Low Yesterday, Au...</td>\n",
       "      <td>https://www.benzinga.com/trading-ideas/technic...</td>\n",
       "      <td>Benzinga Newsdesk</td>\n",
       "      <td>2018-08-16 11:15:13</td>\n",
       "      <td>MSF</td>\n",
       "      <td>0.068182</td>\n",
       "    </tr>\n",
       "    <tr>\n",
       "      <th>857415</th>\n",
       "      <td>861777</td>\n",
       "      <td>UPDATE: Polygon Article Speculates Valve, PUBG...</td>\n",
       "      <td>https://www.benzinga.com/news/18/01/11096639/u...</td>\n",
       "      <td>Paul Quintaro</td>\n",
       "      <td>2018-01-29 16:26:39</td>\n",
       "      <td>MSF</td>\n",
       "      <td>0.000000</td>\n",
       "    </tr>\n",
       "    <tr>\n",
       "      <th>857416</th>\n",
       "      <td>861778</td>\n",
       "      <td>Where The Top 5 Tech Firms Derive Their Revenue</td>\n",
       "      <td>https://www.benzinga.com/news/17/06/9567359/wh...</td>\n",
       "      <td>Brett Hershman</td>\n",
       "      <td>2017-06-09 12:36:44</td>\n",
       "      <td>MSF</td>\n",
       "      <td>0.500000</td>\n",
       "    </tr>\n",
       "    <tr>\n",
       "      <th>857417</th>\n",
       "      <td>861779</td>\n",
       "      <td>2 Boutique Financial Firms To Make Millions Ad...</td>\n",
       "      <td>https://www.benzinga.com/startups/16/06/817280...</td>\n",
       "      <td>Taylor Cox</td>\n",
       "      <td>NaT</td>\n",
       "      <td>MSF</td>\n",
       "      <td>0.000000</td>\n",
       "    </tr>\n",
       "    <tr>\n",
       "      <th>857418</th>\n",
       "      <td>861780</td>\n",
       "      <td>4-6-10 Daily Small Cap Market News and Stock H...</td>\n",
       "      <td>https://www.benzinga.com/208992/4-6-10-daily-s...</td>\n",
       "      <td>SmallCapVoice</td>\n",
       "      <td>NaT</td>\n",
       "      <td>MSF</td>\n",
       "      <td>-0.125000</td>\n",
       "    </tr>\n",
       "  </tbody>\n",
       "</table>\n",
       "</div>"
      ],
      "text/plain": [
       "        unnamed: 0                                           headline  \\\n",
       "857407      861769  NVIDIA with Microsoft Announces Technology Col...   \n",
       "857408      861770  LinkedIn to Acquire Glint, An Employee Engagem...   \n",
       "857409      861771  Stocks Which Set New 52-Week Low Yesterday, Se...   \n",
       "857410      861772  Stocks Which Set New 52-Week Low Yesterday, Se...   \n",
       "857411      861773  Stocks Which Set New 52-Week Low Friday, Septe...   \n",
       "857412      861774  Stocks Which Set New 52-Week Low Yesterday, Se...   \n",
       "857413      861775  Stocks Which Set New 52-Week Low Yesterday, Se...   \n",
       "857414      861776  Stocks Which Set New 52-Week Low Yesterday, Au...   \n",
       "857415      861777  UPDATE: Polygon Article Speculates Valve, PUBG...   \n",
       "857416      861778    Where The Top 5 Tech Firms Derive Their Revenue   \n",
       "857417      861779  2 Boutique Financial Firms To Make Millions Ad...   \n",
       "857418      861780  4-6-10 Daily Small Cap Market News and Stock H...   \n",
       "\n",
       "                                                      url          publisher  \\\n",
       "857407  https://www.benzinga.com/news/19/10/14632016/n...      Charles Gross   \n",
       "857408  https://www.benzinga.com/news/18/10/12472271/l...  Benzinga Newsdesk   \n",
       "857409  https://www.benzinga.com/trading-ideas/technic...  Benzinga Newsdesk   \n",
       "857410  https://www.benzinga.com/trading-ideas/technic...  Benzinga Newsdesk   \n",
       "857411  https://www.benzinga.com/trading-ideas/technic...  Benzinga Newsdesk   \n",
       "857412  https://www.benzinga.com/trading-ideas/technic...  Benzinga Newsdesk   \n",
       "857413  https://www.benzinga.com/trading-ideas/technic...  Benzinga Newsdesk   \n",
       "857414  https://www.benzinga.com/trading-ideas/technic...  Benzinga Newsdesk   \n",
       "857415  https://www.benzinga.com/news/18/01/11096639/u...      Paul Quintaro   \n",
       "857416  https://www.benzinga.com/news/17/06/9567359/wh...     Brett Hershman   \n",
       "857417  https://www.benzinga.com/startups/16/06/817280...         Taylor Cox   \n",
       "857418  https://www.benzinga.com/208992/4-6-10-daily-s...      SmallCapVoice   \n",
       "\n",
       "                      date stock  sentiment  \n",
       "857407 2019-10-21 19:21:40   MSF   0.800000  \n",
       "857408 2018-10-08 11:13:38   MSF   0.000000  \n",
       "857409 2018-09-13 10:19:43   MSF   0.068182  \n",
       "857410 2018-09-12 15:29:45   MSF   0.068182  \n",
       "857411 2018-09-10 16:38:26   MSF   0.068182  \n",
       "857412 2018-09-07 16:49:18   MSF   0.068182  \n",
       "857413 2018-09-06 08:49:57   MSF   0.068182  \n",
       "857414 2018-08-16 11:15:13   MSF   0.068182  \n",
       "857415 2018-01-29 16:26:39   MSF   0.000000  \n",
       "857416 2017-06-09 12:36:44   MSF   0.500000  \n",
       "857417                 NaT   MSF   0.000000  \n",
       "857418                 NaT   MSF  -0.125000  "
      ]
     },
     "execution_count": 6,
     "metadata": {},
     "output_type": "execute_result"
    }
   ],
   "source": [
    "analyzer.news_df.tail(20)"
   ]
  },
  {
   "cell_type": "code",
   "execution_count": 7,
   "id": "254785dc",
   "metadata": {},
   "outputs": [
    {
     "data": {
      "text/html": [
       "<div>\n",
       "<style scoped>\n",
       "    .dataframe tbody tr th:only-of-type {\n",
       "        vertical-align: middle;\n",
       "    }\n",
       "\n",
       "    .dataframe tbody tr th {\n",
       "        vertical-align: top;\n",
       "    }\n",
       "\n",
       "    .dataframe thead th {\n",
       "        text-align: right;\n",
       "    }\n",
       "</style>\n",
       "<table border=\"1\" class=\"dataframe\">\n",
       "  <thead>\n",
       "    <tr style=\"text-align: right;\">\n",
       "      <th></th>\n",
       "      <th>unnamed: 0</th>\n",
       "      <th>headline</th>\n",
       "      <th>url</th>\n",
       "      <th>publisher</th>\n",
       "      <th>date</th>\n",
       "      <th>stock</th>\n",
       "      <th>sentiment</th>\n",
       "    </tr>\n",
       "  </thead>\n",
       "  <tbody>\n",
       "    <tr>\n",
       "      <th>857407</th>\n",
       "      <td>861769</td>\n",
       "      <td>NVIDIA with Microsoft Announces Technology Col...</td>\n",
       "      <td>https://www.benzinga.com/news/19/10/14632016/n...</td>\n",
       "      <td>Charles Gross</td>\n",
       "      <td>2019-10-21 19:21:40</td>\n",
       "      <td>MSF</td>\n",
       "      <td>0.800000</td>\n",
       "    </tr>\n",
       "    <tr>\n",
       "      <th>857408</th>\n",
       "      <td>861770</td>\n",
       "      <td>LinkedIn to Acquire Glint, An Employee Engagem...</td>\n",
       "      <td>https://www.benzinga.com/news/18/10/12472271/l...</td>\n",
       "      <td>Benzinga Newsdesk</td>\n",
       "      <td>2018-10-08 11:13:38</td>\n",
       "      <td>MSF</td>\n",
       "      <td>0.000000</td>\n",
       "    </tr>\n",
       "    <tr>\n",
       "      <th>857409</th>\n",
       "      <td>861771</td>\n",
       "      <td>Stocks Which Set New 52-Week Low Yesterday, Se...</td>\n",
       "      <td>https://www.benzinga.com/trading-ideas/technic...</td>\n",
       "      <td>Benzinga Newsdesk</td>\n",
       "      <td>2018-09-13 10:19:43</td>\n",
       "      <td>MSF</td>\n",
       "      <td>0.068182</td>\n",
       "    </tr>\n",
       "    <tr>\n",
       "      <th>857410</th>\n",
       "      <td>861772</td>\n",
       "      <td>Stocks Which Set New 52-Week Low Yesterday, Se...</td>\n",
       "      <td>https://www.benzinga.com/trading-ideas/technic...</td>\n",
       "      <td>Benzinga Newsdesk</td>\n",
       "      <td>2018-09-12 15:29:45</td>\n",
       "      <td>MSF</td>\n",
       "      <td>0.068182</td>\n",
       "    </tr>\n",
       "    <tr>\n",
       "      <th>857411</th>\n",
       "      <td>861773</td>\n",
       "      <td>Stocks Which Set New 52-Week Low Friday, Septe...</td>\n",
       "      <td>https://www.benzinga.com/trading-ideas/technic...</td>\n",
       "      <td>Benzinga Newsdesk</td>\n",
       "      <td>2018-09-10 16:38:26</td>\n",
       "      <td>MSF</td>\n",
       "      <td>0.068182</td>\n",
       "    </tr>\n",
       "    <tr>\n",
       "      <th>857412</th>\n",
       "      <td>861774</td>\n",
       "      <td>Stocks Which Set New 52-Week Low Yesterday, Se...</td>\n",
       "      <td>https://www.benzinga.com/trading-ideas/technic...</td>\n",
       "      <td>Benzinga Newsdesk</td>\n",
       "      <td>2018-09-07 16:49:18</td>\n",
       "      <td>MSF</td>\n",
       "      <td>0.068182</td>\n",
       "    </tr>\n",
       "    <tr>\n",
       "      <th>857413</th>\n",
       "      <td>861775</td>\n",
       "      <td>Stocks Which Set New 52-Week Low Yesterday, Se...</td>\n",
       "      <td>https://www.benzinga.com/trading-ideas/technic...</td>\n",
       "      <td>Benzinga Newsdesk</td>\n",
       "      <td>2018-09-06 08:49:57</td>\n",
       "      <td>MSF</td>\n",
       "      <td>0.068182</td>\n",
       "    </tr>\n",
       "    <tr>\n",
       "      <th>857414</th>\n",
       "      <td>861776</td>\n",
       "      <td>Stocks Which Set New 52-Week Low Yesterday, Au...</td>\n",
       "      <td>https://www.benzinga.com/trading-ideas/technic...</td>\n",
       "      <td>Benzinga Newsdesk</td>\n",
       "      <td>2018-08-16 11:15:13</td>\n",
       "      <td>MSF</td>\n",
       "      <td>0.068182</td>\n",
       "    </tr>\n",
       "    <tr>\n",
       "      <th>857415</th>\n",
       "      <td>861777</td>\n",
       "      <td>UPDATE: Polygon Article Speculates Valve, PUBG...</td>\n",
       "      <td>https://www.benzinga.com/news/18/01/11096639/u...</td>\n",
       "      <td>Paul Quintaro</td>\n",
       "      <td>2018-01-29 16:26:39</td>\n",
       "      <td>MSF</td>\n",
       "      <td>0.000000</td>\n",
       "    </tr>\n",
       "    <tr>\n",
       "      <th>857416</th>\n",
       "      <td>861778</td>\n",
       "      <td>Where The Top 5 Tech Firms Derive Their Revenue</td>\n",
       "      <td>https://www.benzinga.com/news/17/06/9567359/wh...</td>\n",
       "      <td>Brett Hershman</td>\n",
       "      <td>2017-06-09 12:36:44</td>\n",
       "      <td>MSF</td>\n",
       "      <td>0.500000</td>\n",
       "    </tr>\n",
       "    <tr>\n",
       "      <th>857417</th>\n",
       "      <td>861779</td>\n",
       "      <td>2 Boutique Financial Firms To Make Millions Ad...</td>\n",
       "      <td>https://www.benzinga.com/startups/16/06/817280...</td>\n",
       "      <td>Taylor Cox</td>\n",
       "      <td>NaT</td>\n",
       "      <td>MSF</td>\n",
       "      <td>0.000000</td>\n",
       "    </tr>\n",
       "    <tr>\n",
       "      <th>857418</th>\n",
       "      <td>861780</td>\n",
       "      <td>4-6-10 Daily Small Cap Market News and Stock H...</td>\n",
       "      <td>https://www.benzinga.com/208992/4-6-10-daily-s...</td>\n",
       "      <td>SmallCapVoice</td>\n",
       "      <td>NaT</td>\n",
       "      <td>MSF</td>\n",
       "      <td>-0.125000</td>\n",
       "    </tr>\n",
       "  </tbody>\n",
       "</table>\n",
       "</div>"
      ],
      "text/plain": [
       "        unnamed: 0                                           headline  \\\n",
       "857407      861769  NVIDIA with Microsoft Announces Technology Col...   \n",
       "857408      861770  LinkedIn to Acquire Glint, An Employee Engagem...   \n",
       "857409      861771  Stocks Which Set New 52-Week Low Yesterday, Se...   \n",
       "857410      861772  Stocks Which Set New 52-Week Low Yesterday, Se...   \n",
       "857411      861773  Stocks Which Set New 52-Week Low Friday, Septe...   \n",
       "857412      861774  Stocks Which Set New 52-Week Low Yesterday, Se...   \n",
       "857413      861775  Stocks Which Set New 52-Week Low Yesterday, Se...   \n",
       "857414      861776  Stocks Which Set New 52-Week Low Yesterday, Au...   \n",
       "857415      861777  UPDATE: Polygon Article Speculates Valve, PUBG...   \n",
       "857416      861778    Where The Top 5 Tech Firms Derive Their Revenue   \n",
       "857417      861779  2 Boutique Financial Firms To Make Millions Ad...   \n",
       "857418      861780  4-6-10 Daily Small Cap Market News and Stock H...   \n",
       "\n",
       "                                                      url          publisher  \\\n",
       "857407  https://www.benzinga.com/news/19/10/14632016/n...      Charles Gross   \n",
       "857408  https://www.benzinga.com/news/18/10/12472271/l...  Benzinga Newsdesk   \n",
       "857409  https://www.benzinga.com/trading-ideas/technic...  Benzinga Newsdesk   \n",
       "857410  https://www.benzinga.com/trading-ideas/technic...  Benzinga Newsdesk   \n",
       "857411  https://www.benzinga.com/trading-ideas/technic...  Benzinga Newsdesk   \n",
       "857412  https://www.benzinga.com/trading-ideas/technic...  Benzinga Newsdesk   \n",
       "857413  https://www.benzinga.com/trading-ideas/technic...  Benzinga Newsdesk   \n",
       "857414  https://www.benzinga.com/trading-ideas/technic...  Benzinga Newsdesk   \n",
       "857415  https://www.benzinga.com/news/18/01/11096639/u...      Paul Quintaro   \n",
       "857416  https://www.benzinga.com/news/17/06/9567359/wh...     Brett Hershman   \n",
       "857417  https://www.benzinga.com/startups/16/06/817280...         Taylor Cox   \n",
       "857418  https://www.benzinga.com/208992/4-6-10-daily-s...      SmallCapVoice   \n",
       "\n",
       "                      date stock  sentiment  \n",
       "857407 2019-10-21 19:21:40   MSF   0.800000  \n",
       "857408 2018-10-08 11:13:38   MSF   0.000000  \n",
       "857409 2018-09-13 10:19:43   MSF   0.068182  \n",
       "857410 2018-09-12 15:29:45   MSF   0.068182  \n",
       "857411 2018-09-10 16:38:26   MSF   0.068182  \n",
       "857412 2018-09-07 16:49:18   MSF   0.068182  \n",
       "857413 2018-09-06 08:49:57   MSF   0.068182  \n",
       "857414 2018-08-16 11:15:13   MSF   0.068182  \n",
       "857415 2018-01-29 16:26:39   MSF   0.000000  \n",
       "857416 2017-06-09 12:36:44   MSF   0.500000  \n",
       "857417                 NaT   MSF   0.000000  \n",
       "857418                 NaT   MSF  -0.125000  "
      ]
     },
     "execution_count": 7,
     "metadata": {},
     "output_type": "execute_result"
    }
   ],
   "source": [
    "analyzer.news_df.head(20)"
   ]
  },
  {
   "cell_type": "code",
   "execution_count": 8,
   "id": "00d5fbfc",
   "metadata": {},
   "outputs": [
    {
     "name": "stdout",
     "output_type": "stream",
     "text": [
      "        unnamed: 0                                           headline  \\\n",
      "857407      861769  NVIDIA with Microsoft Announces Technology Col...   \n",
      "857408      861770  LinkedIn to Acquire Glint, An Employee Engagem...   \n",
      "857409      861771  Stocks Which Set New 52-Week Low Yesterday, Se...   \n",
      "857410      861772  Stocks Which Set New 52-Week Low Yesterday, Se...   \n",
      "857411      861773  Stocks Which Set New 52-Week Low Friday, Septe...   \n",
      "857412      861774  Stocks Which Set New 52-Week Low Yesterday, Se...   \n",
      "857413      861775  Stocks Which Set New 52-Week Low Yesterday, Se...   \n",
      "857414      861776  Stocks Which Set New 52-Week Low Yesterday, Au...   \n",
      "857415      861777  UPDATE: Polygon Article Speculates Valve, PUBG...   \n",
      "857416      861778    Where The Top 5 Tech Firms Derive Their Revenue   \n",
      "857417      861779  2 Boutique Financial Firms To Make Millions Ad...   \n",
      "857418      861780  4-6-10 Daily Small Cap Market News and Stock H...   \n",
      "\n",
      "                                                      url          publisher  \\\n",
      "857407  https://www.benzinga.com/news/19/10/14632016/n...      Charles Gross   \n",
      "857408  https://www.benzinga.com/news/18/10/12472271/l...  Benzinga Newsdesk   \n",
      "857409  https://www.benzinga.com/trading-ideas/technic...  Benzinga Newsdesk   \n",
      "857410  https://www.benzinga.com/trading-ideas/technic...  Benzinga Newsdesk   \n",
      "857411  https://www.benzinga.com/trading-ideas/technic...  Benzinga Newsdesk   \n",
      "857412  https://www.benzinga.com/trading-ideas/technic...  Benzinga Newsdesk   \n",
      "857413  https://www.benzinga.com/trading-ideas/technic...  Benzinga Newsdesk   \n",
      "857414  https://www.benzinga.com/trading-ideas/technic...  Benzinga Newsdesk   \n",
      "857415  https://www.benzinga.com/news/18/01/11096639/u...      Paul Quintaro   \n",
      "857416  https://www.benzinga.com/news/17/06/9567359/wh...     Brett Hershman   \n",
      "857417  https://www.benzinga.com/startups/16/06/817280...         Taylor Cox   \n",
      "857418  https://www.benzinga.com/208992/4-6-10-daily-s...      SmallCapVoice   \n",
      "\n",
      "                      date stock  sentiment  \n",
      "857407 2019-10-21 19:21:40   MSF   0.800000  \n",
      "857408 2018-10-08 11:13:38   MSF   0.000000  \n",
      "857409 2018-09-13 10:19:43   MSF   0.068182  \n",
      "857410 2018-09-12 15:29:45   MSF   0.068182  \n",
      "857411 2018-09-10 16:38:26   MSF   0.068182  \n",
      "857412 2018-09-07 16:49:18   MSF   0.068182  \n",
      "857413 2018-09-06 08:49:57   MSF   0.068182  \n",
      "857414 2018-08-16 11:15:13   MSF   0.068182  \n",
      "857415 2018-01-29 16:26:39   MSF   0.000000  \n",
      "857416 2017-06-09 12:36:44   MSF   0.500000  \n",
      "857417                 NaT   MSF   0.000000  \n",
      "857418                 NaT   MSF  -0.125000  \n"
     ]
    }
   ],
   "source": [
    "print(analyzer.news_df)"
   ]
  },
  {
   "cell_type": "code",
   "execution_count": 9,
   "id": "ef771122",
   "metadata": {},
   "outputs": [],
   "source": [
    "analyzer.calculate_returns()"
   ]
  },
  {
   "cell_type": "code",
   "execution_count": 10,
   "id": "4f6c0dec",
   "metadata": {},
   "outputs": [
    {
     "name": "stdout",
     "output_type": "stream",
     "text": [
      "            date        open        high         low       close   adj close  \\\n",
      "0     1980-12-12    0.128348    0.128906    0.128348    0.128348    0.098943   \n",
      "1     1980-12-15    0.122210    0.122210    0.121652    0.121652    0.093781   \n",
      "2     1980-12-16    0.113281    0.113281    0.112723    0.112723    0.086898   \n",
      "3     1980-12-17    0.115513    0.116071    0.115513    0.115513    0.089049   \n",
      "4     1980-12-18    0.118862    0.119420    0.118862    0.118862    0.091630   \n",
      "...          ...         ...         ...         ...         ...         ...   \n",
      "10993 2024-07-24  224.000000  224.800003  217.130005  218.539993  218.287323   \n",
      "10994 2024-07-25  218.929993  220.850006  214.619995  217.490005  217.238556   \n",
      "10995 2024-07-26  218.699997  219.490005  216.009995  217.960007  217.708008   \n",
      "10996 2024-07-29  216.960007  219.300003  215.750000  218.240005  217.987686   \n",
      "10997 2024-07-30  219.190002  220.330002  216.119995  218.800003  218.547043   \n",
      "\n",
      "          volume  dividends  stock splits  daily_return  \n",
      "0      469033600        0.0           0.0           NaN  \n",
      "1      175884800        0.0           0.0     -0.052171  \n",
      "2      105728000        0.0           0.0     -0.073398  \n",
      "3       86441600        0.0           0.0      0.024751  \n",
      "4       73449600        0.0           0.0      0.028992  \n",
      "...          ...        ...           ...           ...  \n",
      "10993   61777600        0.0           0.0     -0.028754  \n",
      "10994   51391200        0.0           0.0     -0.004805  \n",
      "10995   41601300        0.0           0.0      0.002161  \n",
      "10996   36311800        0.0           0.0      0.001285  \n",
      "10997   41643800        0.0           0.0      0.002566  \n",
      "\n",
      "[10998 rows x 10 columns]\n"
     ]
    }
   ],
   "source": [
    "print(analyzer.stock_df)"
   ]
  },
  {
   "cell_type": "code",
   "execution_count": 11,
   "id": "07d9877b",
   "metadata": {},
   "outputs": [],
   "source": [
    "data = analyzer.aggregate_sentiment()"
   ]
  },
  {
   "cell_type": "code",
   "execution_count": 12,
   "id": "15fc8963",
   "metadata": {},
   "outputs": [
    {
     "name": "stdout",
     "output_type": "stream",
     "text": [
      "                 date  sentiment\n",
      "0 2017-06-09 12:36:44   0.500000\n",
      "1 2018-01-29 16:26:39   0.000000\n",
      "2 2018-08-16 11:15:13   0.068182\n",
      "3 2018-09-06 08:49:57   0.068182\n",
      "4 2018-09-07 16:49:18   0.068182\n",
      "5 2018-09-10 16:38:26   0.068182\n",
      "6 2018-09-12 15:29:45   0.068182\n",
      "7 2018-09-13 10:19:43   0.068182\n",
      "8 2018-10-08 11:13:38   0.000000\n",
      "9 2019-10-21 19:21:40   0.800000\n"
     ]
    }
   ],
   "source": [
    "print(data)"
   ]
  },
  {
   "cell_type": "code",
   "execution_count": 13,
   "id": "63a3865e",
   "metadata": {},
   "outputs": [
    {
     "name": "stdout",
     "output_type": "stream",
     "text": [
      "[Info] Successfully merged data. Records: 10\n"
     ]
    }
   ],
   "source": [
    "analyzer.merge_data()"
   ]
  },
  {
   "cell_type": "code",
   "execution_count": 14,
   "id": "acb4a625",
   "metadata": {},
   "outputs": [
    {
     "name": "stdout",
     "output_type": "stream",
     "text": [
      "        date  sentiment  daily_return\n",
      "0 2017-06-09   0.500000     -0.038777\n",
      "1 2018-01-29   0.000000     -0.020698\n",
      "2 2018-08-16   0.068182      0.014650\n",
      "3 2018-09-06   0.068182     -0.016617\n",
      "4 2018-09-07   0.068182     -0.008068\n",
      "5 2018-09-10   0.068182     -0.013421\n",
      "6 2018-09-12   0.068182     -0.012419\n",
      "7 2018-09-13   0.068182      0.024155\n",
      "8 2018-10-08   0.000000     -0.002318\n",
      "9 2019-10-21   0.800000      0.017343\n"
     ]
    }
   ],
   "source": [
    "print(analyzer.merged_df)"
   ]
  },
  {
   "cell_type": "code",
   "execution_count": 15,
   "id": "b0f8ede5",
   "metadata": {},
   "outputs": [
    {
     "name": "stdout",
     "output_type": "stream",
     "text": [
      "[Info] Pearson correlation: 0.0713\n"
     ]
    }
   ],
   "source": [
    "correlation =analyzer.compute_correlation()"
   ]
  },
  {
   "cell_type": "code",
   "execution_count": 16,
   "id": "64395191",
   "metadata": {},
   "outputs": [
    {
     "name": "stdout",
     "output_type": "stream",
     "text": [
      "Pearson correlation between sentiment and daily return: 0.0713\n"
     ]
    }
   ],
   "source": [
    "print(f\"Pearson correlation between sentiment and daily return: {correlation:.4f}\")"
   ]
  },
  {
   "cell_type": "code",
   "execution_count": 17,
   "id": "2fa59520",
   "metadata": {},
   "outputs": [
    {
     "data": {
      "image/png": "[encoded data removed]",
      "text/plain": [
       "<Figure size 600x400 with 2 Axes>"
      ]
     },
     "metadata": {},
     "output_type": "display_data"
    }
   ],
   "source": [
    "analyzer.plot_correlation_heatmap()"
   ]
  }
 ],
 "metadata": {
  "kernelspec": {
   "display_name": "venv",
   "language": "python",
   "name": "python3"
  },
  "language_info": {
   "codemirror_mode": {
    "name": "ipython",
    "version": 3
   },
   "file_extension": ".py",
   "mimetype": "text/x-python",
   "name": "python",
   "nbconvert_exporter": "python",
   "pygments_lexer": "ipython3",
   "version": "3.12.8"
  }
 },
 "nbformat": 4,
 "nbformat_minor": 5
}

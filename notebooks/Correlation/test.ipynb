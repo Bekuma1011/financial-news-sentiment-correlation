{
 "cells": [
  {
   "cell_type": "code",
   "execution_count": 1,
   "id": "8858eb04",
   "metadata": {},
   "outputs": [],
   "source": [
    "import pandas as pd\n",
    "from textblob import TextBlob\n",
    "import matplotlib.pyplot as plt\n",
    "import seaborn as sns"
   ]
  },
  {
   "cell_type": "code",
   "execution_count": 2,
   "id": "7423d0c7",
   "metadata": {},
   "outputs": [],
   "source": [
    "news_df = pd.read_csv(\"../../data/raw_analyst_ratings.csv\", parse_dates=[\"date\"])\n",
    "news_df = news_df[news_df['stock'].isin(['AAPL'])]\n",
    "stock_df = pd.read_csv(\"../../data/yfinance_data/AAPL_historical_data.csv\", parse_dates=[\"Date\"])\n",
    "\n"
   ]
  },
  {
   "cell_type": "code",
   "execution_count": 3,
   "id": "7df199b8",
   "metadata": {},
   "outputs": [],
   "source": [
    "news_df.columns = news_df.columns.str.lower()\n",
    "stock_df.columns = stock_df.columns.str.lower()"
   ]
  },
  {
   "cell_type": "code",
   "execution_count": 4,
   "id": "2eaea250",
   "metadata": {},
   "outputs": [
    {
     "name": "stdout",
     "output_type": "stream",
     "text": [
      "      unnamed: 0                                           headline  \\\n",
      "6680        7120  Tech Stocks And FAANGS Strong Again To Start D...   \n",
      "6681        7121      10 Biggest Price Target Changes For Wednesday   \n",
      "\n",
      "                                                    url   publisher  \\\n",
      "6680  https://www.benzinga.com/government/20/06/1622...  JJ Kinahan   \n",
      "6681  https://www.benzinga.com/analyst-ratings/price...  Lisa Levin   \n",
      "\n",
      "                           date stock  \n",
      "6680  2020-06-10 11:33:26-04:00  AAPL  \n",
      "6681  2020-06-10 08:14:08-04:00  AAPL  \n"
     ]
    }
   ],
   "source": [
    "print(news_df.head(2))"
   ]
  },
  {
   "cell_type": "code",
   "execution_count": 5,
   "id": "f6d7b971",
   "metadata": {},
   "outputs": [
    {
     "name": "stdout",
     "output_type": "stream",
     "text": [
      "        date      open      high       low     close  adj close     volume  \\\n",
      "0 1980-12-12  0.128348  0.128906  0.128348  0.128348   0.098943  469033600   \n",
      "1 1980-12-15  0.122210  0.122210  0.121652  0.121652   0.093781  175884800   \n",
      "\n",
      "   dividends  stock splits  \n",
      "0        0.0           0.0  \n",
      "1        0.0           0.0  \n"
     ]
    }
   ],
   "source": [
    "print(stock_df.head(2))"
   ]
  },
  {
   "cell_type": "code",
   "execution_count": 6,
   "id": "8fca77ab",
   "metadata": {},
   "outputs": [],
   "source": [
    "def get_sentiment(text):\n",
    "    return TextBlob(text).sentiment.polarity\n",
    "\n",
    "news_df[\"sentiment\"] = news_df[\"headline\"].apply(get_sentiment)"
   ]
  },
  {
   "cell_type": "code",
   "execution_count": 7,
   "id": "4874a3fa",
   "metadata": {},
   "outputs": [
    {
     "name": "stdout",
     "output_type": "stream",
     "text": [
      "      unnamed: 0                                           headline  \\\n",
      "6680        7120  Tech Stocks And FAANGS Strong Again To Start D...   \n",
      "6681        7121      10 Biggest Price Target Changes For Wednesday   \n",
      "6682        7122  Benzinga Pro's Top 5 Stocks To Watch For Wed.,...   \n",
      "6683        7123  Deutsche Bank Maintains Buy on Apple, Raises P...   \n",
      "6684        7124  Apple To Let Users Trade In Their Mac Computer...   \n",
      "6685        7125  Big Tech Reaches New Record Heights At The Sto...   \n",
      "6686        7126          Why Apple's Stock Is Trading Higher Today   \n",
      "6687        7127  Apple Could Announce In-House Chips For Macs A...   \n",
      "\n",
      "                                                    url          publisher  \\\n",
      "6680  https://www.benzinga.com/government/20/06/1622...         JJ Kinahan   \n",
      "6681  https://www.benzinga.com/analyst-ratings/price...         Lisa Levin   \n",
      "6682  https://www.benzinga.com/short-sellers/20/06/1...  Benzinga Newsdesk   \n",
      "6683  https://www.benzinga.com/news/20/06/16219873/d...  Benzinga Newsdesk   \n",
      "6684  https://www.benzinga.com/news/20/06/16218697/a...      Neer Varshney   \n",
      "6685  https://www.benzinga.com/news/20/06/16218615/b...      Neer Varshney   \n",
      "6686  https://www.benzinga.com/news/20/06/16215446/w...     Tanzeel Akhtar   \n",
      "6687  https://www.benzinga.com/news/20/06/16214115/a...   Shanthi Rexaline   \n",
      "\n",
      "                           date stock  sentiment  \n",
      "6680  2020-06-10 11:33:26-04:00  AAPL   0.433333  \n",
      "6681  2020-06-10 08:14:08-04:00  AAPL   0.000000  \n",
      "6682  2020-06-10 07:53:47-04:00  AAPL   0.500000  \n",
      "6683  2020-06-10 07:19:25-04:00  AAPL   0.000000  \n",
      "6684  2020-06-10 06:27:11-04:00  AAPL   0.000000  \n",
      "6685  2020-06-10 00:52:01-04:00  AAPL   0.068182  \n",
      "6686  2020-06-09 15:14:07-04:00  AAPL   0.250000  \n",
      "6687  2020-06-09 13:58:46-04:00  AAPL   0.000000  \n"
     ]
    }
   ],
   "source": [
    "print(news_df.head(8))"
   ]
  },
  {
   "cell_type": "code",
   "execution_count": 8,
   "id": "965e410d",
   "metadata": {},
   "outputs": [],
   "source": [
    "# 3. Aggregate sentiment by date\n",
    "daily_sentiment = news_df.groupby(\"date\")[\"sentiment\"].mean().reset_index()"
   ]
  },
  {
   "cell_type": "code",
   "execution_count": 9,
   "id": "437c11e8",
   "metadata": {},
   "outputs": [],
   "source": [
    "# 4. Compute daily returns from stock data\n",
    "stock_df.sort_values(\"date\", inplace=True)\n",
    "stock_df[\"daily_return\"] = stock_df[\"close\"].pct_change()"
   ]
  },
  {
   "cell_type": "code",
   "execution_count": 10,
   "id": "5093870e",
   "metadata": {},
   "outputs": [
    {
     "name": "stdout",
     "output_type": "stream",
     "text": [
      "        date      open      high       low     close  adj close     volume  \\\n",
      "0 1980-12-12  0.128348  0.128906  0.128348  0.128348   0.098943  469033600   \n",
      "1 1980-12-15  0.122210  0.122210  0.121652  0.121652   0.093781  175884800   \n",
      "\n",
      "   dividends  stock splits  daily_return  \n",
      "0        0.0           0.0           NaN  \n",
      "1        0.0           0.0     -0.052171  \n"
     ]
    }
   ],
   "source": [
    "print(stock_df.head(2))"
   ]
  },
  {
   "cell_type": "code",
   "execution_count": 11,
   "id": "6a065360",
   "metadata": {},
   "outputs": [
    {
     "ename": "ValueError",
     "evalue": "You are trying to merge on object and datetime64[ns] columns for key 'date'. If you wish to proceed you should use pd.concat",
     "output_type": "error",
     "traceback": [
      "\u001b[31m---------------------------------------------------------------------------\u001b[39m",
      "\u001b[31mValueError\u001b[39m                                Traceback (most recent call last)",
      "\u001b[36mCell\u001b[39m\u001b[36m \u001b[39m\u001b[32mIn[11]\u001b[39m\u001b[32m, line 2\u001b[39m\n\u001b[32m      1\u001b[39m \u001b[38;5;66;03m# 5. Merge sentiment and return data\u001b[39;00m\n\u001b[32m----> \u001b[39m\u001b[32m2\u001b[39m merged_df = \u001b[43mpd\u001b[49m\u001b[43m.\u001b[49m\u001b[43mmerge\u001b[49m\u001b[43m(\u001b[49m\u001b[43mdaily_sentiment\u001b[49m\u001b[43m,\u001b[49m\u001b[43m \u001b[49m\u001b[43mstock_df\u001b[49m\u001b[43m[\u001b[49m\u001b[43m[\u001b[49m\u001b[33;43m\"\u001b[39;49m\u001b[33;43mdate\u001b[39;49m\u001b[33;43m\"\u001b[39;49m\u001b[43m,\u001b[49m\u001b[43m \u001b[49m\u001b[33;43m\"\u001b[39;49m\u001b[33;43mdaily_return\u001b[39;49m\u001b[33;43m\"\u001b[39;49m\u001b[43m]\u001b[49m\u001b[43m]\u001b[49m\u001b[43m,\u001b[49m\u001b[43m \u001b[49m\u001b[43mon\u001b[49m\u001b[43m=\u001b[49m\u001b[33;43m\"\u001b[39;49m\u001b[33;43mdate\u001b[39;49m\u001b[33;43m\"\u001b[39;49m\u001b[43m,\u001b[49m\u001b[43m \u001b[49m\u001b[43mhow\u001b[49m\u001b[43m=\u001b[49m\u001b[33;43m\"\u001b[39;49m\u001b[33;43minner\u001b[39;49m\u001b[33;43m\"\u001b[39;49m\u001b[43m)\u001b[49m\n",
      "\u001b[36mFile \u001b[39m\u001b[32md:\\WEEK 1\\financial-news-sentiment-correlation\\venv\\Lib\\site-packages\\pandas\\core\\reshape\\merge.py:170\u001b[39m, in \u001b[36mmerge\u001b[39m\u001b[34m(left, right, how, on, left_on, right_on, left_index, right_index, sort, suffixes, copy, indicator, validate)\u001b[39m\n\u001b[32m    155\u001b[39m     \u001b[38;5;28;01mreturn\u001b[39;00m _cross_merge(\n\u001b[32m    156\u001b[39m         left_df,\n\u001b[32m    157\u001b[39m         right_df,\n\u001b[32m   (...)\u001b[39m\u001b[32m    167\u001b[39m         copy=copy,\n\u001b[32m    168\u001b[39m     )\n\u001b[32m    169\u001b[39m \u001b[38;5;28;01melse\u001b[39;00m:\n\u001b[32m--> \u001b[39m\u001b[32m170\u001b[39m     op = \u001b[43m_MergeOperation\u001b[49m\u001b[43m(\u001b[49m\n\u001b[32m    171\u001b[39m \u001b[43m        \u001b[49m\u001b[43mleft_df\u001b[49m\u001b[43m,\u001b[49m\n\u001b[32m    172\u001b[39m \u001b[43m        \u001b[49m\u001b[43mright_df\u001b[49m\u001b[43m,\u001b[49m\n\u001b[32m    173\u001b[39m \u001b[43m        \u001b[49m\u001b[43mhow\u001b[49m\u001b[43m=\u001b[49m\u001b[43mhow\u001b[49m\u001b[43m,\u001b[49m\n\u001b[32m    174\u001b[39m \u001b[43m        \u001b[49m\u001b[43mon\u001b[49m\u001b[43m=\u001b[49m\u001b[43mon\u001b[49m\u001b[43m,\u001b[49m\n\u001b[32m    175\u001b[39m \u001b[43m        \u001b[49m\u001b[43mleft_on\u001b[49m\u001b[43m=\u001b[49m\u001b[43mleft_on\u001b[49m\u001b[43m,\u001b[49m\n\u001b[32m    176\u001b[39m \u001b[43m        \u001b[49m\u001b[43mright_on\u001b[49m\u001b[43m=\u001b[49m\u001b[43mright_on\u001b[49m\u001b[43m,\u001b[49m\n\u001b[32m    177\u001b[39m \u001b[43m        \u001b[49m\u001b[43mleft_index\u001b[49m\u001b[43m=\u001b[49m\u001b[43mleft_index\u001b[49m\u001b[43m,\u001b[49m\n\u001b[32m    178\u001b[39m \u001b[43m        \u001b[49m\u001b[43mright_index\u001b[49m\u001b[43m=\u001b[49m\u001b[43mright_index\u001b[49m\u001b[43m,\u001b[49m\n\u001b[32m    179\u001b[39m \u001b[43m        \u001b[49m\u001b[43msort\u001b[49m\u001b[43m=\u001b[49m\u001b[43msort\u001b[49m\u001b[43m,\u001b[49m\n\u001b[32m    180\u001b[39m \u001b[43m        \u001b[49m\u001b[43msuffixes\u001b[49m\u001b[43m=\u001b[49m\u001b[43msuffixes\u001b[49m\u001b[43m,\u001b[49m\n\u001b[32m    181\u001b[39m \u001b[43m        \u001b[49m\u001b[43mindicator\u001b[49m\u001b[43m=\u001b[49m\u001b[43mindicator\u001b[49m\u001b[43m,\u001b[49m\n\u001b[32m    182\u001b[39m \u001b[43m        \u001b[49m\u001b[43mvalidate\u001b[49m\u001b[43m=\u001b[49m\u001b[43mvalidate\u001b[49m\u001b[43m,\u001b[49m\n\u001b[32m    183\u001b[39m \u001b[43m    \u001b[49m\u001b[43m)\u001b[49m\n\u001b[32m    184\u001b[39m     \u001b[38;5;28;01mreturn\u001b[39;00m op.get_result(copy=copy)\n",
      "\u001b[36mFile \u001b[39m\u001b[32md:\\WEEK 1\\financial-news-sentiment-correlation\\venv\\Lib\\site-packages\\pandas\\core\\reshape\\merge.py:807\u001b[39m, in \u001b[36m_MergeOperation.__init__\u001b[39m\u001b[34m(self, left, right, how, on, left_on, right_on, left_index, right_index, sort, suffixes, indicator, validate)\u001b[39m\n\u001b[32m    803\u001b[39m \u001b[38;5;28mself\u001b[39m._validate_tolerance(\u001b[38;5;28mself\u001b[39m.left_join_keys)\n\u001b[32m    805\u001b[39m \u001b[38;5;66;03m# validate the merge keys dtypes. We may need to coerce\u001b[39;00m\n\u001b[32m    806\u001b[39m \u001b[38;5;66;03m# to avoid incompatible dtypes\u001b[39;00m\n\u001b[32m--> \u001b[39m\u001b[32m807\u001b[39m \u001b[38;5;28;43mself\u001b[39;49m\u001b[43m.\u001b[49m\u001b[43m_maybe_coerce_merge_keys\u001b[49m\u001b[43m(\u001b[49m\u001b[43m)\u001b[49m\n\u001b[32m    809\u001b[39m \u001b[38;5;66;03m# If argument passed to validate,\u001b[39;00m\n\u001b[32m    810\u001b[39m \u001b[38;5;66;03m# check if columns specified as unique\u001b[39;00m\n\u001b[32m    811\u001b[39m \u001b[38;5;66;03m# are in fact unique.\u001b[39;00m\n\u001b[32m    812\u001b[39m \u001b[38;5;28;01mif\u001b[39;00m validate \u001b[38;5;129;01mis\u001b[39;00m \u001b[38;5;129;01mnot\u001b[39;00m \u001b[38;5;28;01mNone\u001b[39;00m:\n",
      "\u001b[36mFile \u001b[39m\u001b[32md:\\WEEK 1\\financial-news-sentiment-correlation\\venv\\Lib\\site-packages\\pandas\\core\\reshape\\merge.py:1514\u001b[39m, in \u001b[36m_MergeOperation._maybe_coerce_merge_keys\u001b[39m\u001b[34m(self)\u001b[39m\n\u001b[32m   1512\u001b[39m     \u001b[38;5;28;01mraise\u001b[39;00m \u001b[38;5;167;01mValueError\u001b[39;00m(msg)\n\u001b[32m   1513\u001b[39m \u001b[38;5;28;01melif\u001b[39;00m \u001b[38;5;129;01mnot\u001b[39;00m needs_i8_conversion(lk.dtype) \u001b[38;5;129;01mand\u001b[39;00m needs_i8_conversion(rk.dtype):\n\u001b[32m-> \u001b[39m\u001b[32m1514\u001b[39m     \u001b[38;5;28;01mraise\u001b[39;00m \u001b[38;5;167;01mValueError\u001b[39;00m(msg)\n\u001b[32m   1515\u001b[39m \u001b[38;5;28;01melif\u001b[39;00m \u001b[38;5;28misinstance\u001b[39m(lk.dtype, DatetimeTZDtype) \u001b[38;5;129;01mand\u001b[39;00m \u001b[38;5;129;01mnot\u001b[39;00m \u001b[38;5;28misinstance\u001b[39m(\n\u001b[32m   1516\u001b[39m     rk.dtype, DatetimeTZDtype\n\u001b[32m   1517\u001b[39m ):\n\u001b[32m   1518\u001b[39m     \u001b[38;5;28;01mraise\u001b[39;00m \u001b[38;5;167;01mValueError\u001b[39;00m(msg)\n",
      "\u001b[31mValueError\u001b[39m: You are trying to merge on object and datetime64[ns] columns for key 'date'. If you wish to proceed you should use pd.concat"
     ]
    }
   ],
   "source": [
    "# 5. Merge sentiment and return data\n",
    "merged_df = pd.merge(daily_sentiment, stock_df[[\"date\", \"daily_return\"]], on=\"date\", how=\"inner\")"
   ]
  }
 ],
 "metadata": {
  "kernelspec": {
   "display_name": "venv",
   "language": "python",
   "name": "python3"
  },
  "language_info": {
   "codemirror_mode": {
    "name": "ipython",
    "version": 3
   },
   "file_extension": ".py",
   "mimetype": "text/x-python",
   "name": "python",
   "nbconvert_exporter": "python",
   "pygments_lexer": "ipython3",
   "version": "3.12.8"
  }
 },
 "nbformat": 4,
 "nbformat_minor": 5
}
